{
 "cells": [
  {
   "cell_type": "code",
   "execution_count": 8,
   "metadata": {},
   "outputs": [],
   "source": [
    "import copy\n",
    "\n",
    "class Document:\n",
    "\n",
    "    def __init__(self, title:str, content:str, date:str = None ) -> None:\n",
    "        self.title = title\n",
    "        self.content = content\n",
    "        self.date = date\n",
    "        self.sections = {}\n",
    "\n",
    "    def add_section(self, section_name:str, section_description:str)->None:\n",
    "        self.sections[section_name] = section_description\n",
    "\n",
    "    def show_info(self)->None:\n",
    "        print(f\"Title: {self.title}\")\n",
    "        print(f\"Content: {self.content}\")\n",
    "        print(f\"Date: {self.date}\")\n",
    "\n",
    "    def clone(self)->\"Document\":\n",
    "        return copy.deepcopy(self)"
   ]
  },
  {
   "cell_type": "code",
   "execution_count": 9,
   "metadata": {},
   "outputs": [],
   "source": [
    "class Contract(Document):\n",
    "    def __init__(self, title: str, content: str, date: str = None) -> None:\n",
    "        super().__init__(title, content, date)\n",
    "        self.client = \"\"\n",
    "\n",
    "    def add_client(self, client: str)->None:\n",
    "        self.client = client\n",
    "\n",
    "    def show_info(self) -> None:\n",
    "        super().show_info()\n",
    "        print(f\"Client: {self.client}\")\n",
    "\n",
    "class Report(Document):\n",
    "    def __init__(self, title: str, content: str, date: str = None) -> None:\n",
    "        super().__init__(title, content, date)\n",
    "        self.author = \"\"\n",
    "        self.activities = {}\n",
    "\n",
    "    def add_author(self, name: str)->None:\n",
    "        self.author = name\n",
    "\n",
    "    def add_activity(self, activity_name: str, activity_description: str)->None:\n",
    "        self.activities[activity_name] = activity_description\n",
    "\n",
    "    def show_info(self) -> None:\n",
    "        super().show_info()\n",
    "        print(f\"Author: {self.author}\")\n",
    "        print(f\"Activities: {self.activities}\")"
   ]
  },
  {
   "cell_type": "code",
   "execution_count": 10,
   "metadata": {},
   "outputs": [
    {
     "name": "stdout",
     "output_type": "stream",
     "text": [
      "Title: Economic analyst\n",
      "Content: General content of a contract\n",
      "Date: None\n",
      "Client: Maria Gomez\n",
      "Title: Water\n",
      "Content: General content of a water service contract\n",
      "Date: None\n",
      "Client: Caribbean Water\n"
     ]
    }
   ],
   "source": [
    "employment_contract:Contract = Contract(\"Economic analyst\", \"General content of a contract\")\n",
    "services_contract:Contract = Contract(\"Water\", \"General content of a water service contract\")\n",
    "\n",
    "#Test\n",
    "employment_contract_maria:Contract = employment_contract.clone()\n",
    "employment_contract_maria.add_client(\"Maria Gomez\")\n",
    "employment_contract_maria.add_section(\"Confidentiality clause\", \"General content of a confidentiality clause\")\n",
    "employment_contract_maria.show_info()\n",
    "\n",
    "services_contract_caribbeanwater:Contract = services_contract.clone()\n",
    "services_contract_caribbeanwater.add_client(\"Caribbean Water\")\n",
    "services_contract_caribbeanwater.add_section(\"Confidentiality clause\", \"General content of a confidentiality clause\")\n",
    "services_contract_caribbeanwater.show_info()"
   ]
  },
  {
   "cell_type": "code",
   "execution_count": 11,
   "metadata": {},
   "outputs": [
    {
     "name": "stdout",
     "output_type": "stream",
     "text": [
      "Title: Activity report\n",
      "Content: Report content\n",
      "Date: None\n",
      "Author: Jose Granados\n",
      "Activities: {'Activity 1': 'Activity description'}\n"
     ]
    }
   ],
   "source": [
    "report:Report = Report(\"Activity report\", \"Report content\")\n",
    "report_jose:Report = report.clone()\n",
    "report_jose.add_author(\"Jose Granados\")\n",
    "report_jose.add_activity(\"Activity 1\", \"Activity description\")\n",
    "report_jose.show_info()"
   ]
  }
 ],
 "metadata": {
  "kernelspec": {
   "display_name": "Python 3",
   "language": "python",
   "name": "python3"
  },
  "language_info": {
   "codemirror_mode": {
    "name": "ipython",
    "version": 3
   },
   "file_extension": ".py",
   "mimetype": "text/x-python",
   "name": "python",
   "nbconvert_exporter": "python",
   "pygments_lexer": "ipython3",
   "version": "3.12.1"
  }
 },
 "nbformat": 4,
 "nbformat_minor": 2
}
