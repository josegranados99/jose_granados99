{
 "cells": [
  {
   "cell_type": "code",
   "execution_count": 7,
   "metadata": {},
   "outputs": [],
   "source": [
    "from abc import ABC, abstractmethod\n",
    "\n",
    "class Employee(ABC):\n",
    "    def __init__(self, name:str):\n",
    "        self.name = name\n",
    "\n",
    "    @abstractmethod\n",
    "    def calculate_salary(self):\n",
    "        pass\n",
    "\n",
    "class Manager(Employee):\n",
    "    def __init__(self, name:str,basic_salary:int, bonus:int):\n",
    "        super().__init__(name=name)\n",
    "        self.basic_salary = basic_salary\n",
    "        self.bonus = bonus\n",
    "\n",
    "    def calculate_salary(self):\n",
    "        return self.basic_salary + self.bonus\n",
    "\n",
    "class Developer(Employee):\n",
    "    def __init__(self, name:str,basic_salary:int, overtime:int, overtime_rate:int):\n",
    "        super().__init__(name=name)\n",
    "        self.basic_salary = basic_salary\n",
    "        self.overtime = overtime\n",
    "        self.overtime_rate = overtime_rate\n",
    "\n",
    "    def calculate_salary(self):\n",
    "        return self.basic_salary + (self.overtime * self.overtime_rate)\n",
    "\n",
    "def calculate_employee_salary(employee:Employee):\n",
    "    print(f\"employee {employee.name}'s salary is: {employee.calculate_salary()}\")\n"
   ]
  },
  {
   "cell_type": "code",
   "execution_count": 10,
   "metadata": {},
   "outputs": [
    {
     "name": "stdout",
     "output_type": "stream",
     "text": [
      "employee Jose's salary is: 1600\n",
      "employee Maria's salary is: 6000\n"
     ]
    }
   ],
   "source": [
    "employee_jose:Developer = Developer(\"Jose\", 1000, 12, 50)\n",
    "employee_maria:Manager = Manager(\"Maria\",5000, 1000)\n",
    "\n",
    "for employee in [employee_jose, employee_maria]:\n",
    "    calculate_employee_salary(employee)"
   ]
  }
 ],
 "metadata": {
  "kernelspec": {
   "display_name": "Python 3 (ipykernel)",
   "language": "python",
   "name": "python3"
  },
  "language_info": {
   "codemirror_mode": {
    "name": "ipython",
    "version": 3
   },
   "file_extension": ".py",
   "mimetype": "text/x-python",
   "name": "python",
   "nbconvert_exporter": "python",
   "pygments_lexer": "ipython3",
   "version": "3.12.1"
  }
 },
 "nbformat": 4,
 "nbformat_minor": 2
}
