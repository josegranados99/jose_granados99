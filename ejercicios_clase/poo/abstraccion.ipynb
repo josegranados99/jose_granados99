{
 "cells": [
  {
   "cell_type": "code",
   "execution_count": 30,
   "metadata": {},
   "outputs": [],
   "source": [
    "class Pokemon:\n",
    "    def __init__(self, name: str, type: str,health_points: int, attack_points: int, defense_points: int, speed: int, accuracy: int, evasion: int, level: int = 1, exp:int = 0) ->None:\n",
    "        self.name = name\n",
    "        self.type = type\n",
    "        self.health_points = health_points\n",
    "        self.attack_points = attack_points\n",
    "        self.defense_points = defense_points\n",
    "        self.speed = speed\n",
    "        self.accuracy = accuracy\n",
    "        self.evasion = evasion\n",
    "        self.level = level\n",
    "        self.exp = exp\n",
    "\n",
    "    def __str__(self)->str:\n",
    "        return f\"Statistics of the pokemon {self.name} of type {self.type}:\\n Health points: {self.health_points} \\n Attack: {self.attack_points} \\n Defense: {self.defense_points} \\n Speed: {self.speed} \\n Accutacy: {self.accuracy} \\n Evasion: {self.evasion}\"\n",
    "\n",
    "    def attack (self)->None:\n",
    "        print(f\"The pokemon {self.name} attack with a force of {self.attack_points} points\")\n",
    "\n",
    "    def defense (self)->None:\n",
    "        print(f\"The pokemon {self.name} defended an attack by  {self.defense_points} points\")\n",
    "\n",
    "    def level_up(self)->None:\n",
    "        if(self.exp >= 10):\n",
    "            self.level += 1\n",
    "            self.exp = 0\n",
    "            print(f\"The pokemon {self.name} has leveled up. Current level: {self.level}\")\n",
    "        else:\n",
    "            print(f\"The pokemon {self.name} cannot level up due to lack of experience\")\n",
    "\n",
    "    def gain_exp(self, value:int)->None:\n",
    "        self.exp = value\n",
    "\n",
    "pokemon_1 = Pokemon(\"picachu\", \"electric\", 3, 4, 3, 4, 3, 2)"
   ]
  },
  {
   "cell_type": "code",
   "execution_count": 31,
   "metadata": {},
   "outputs": [
    {
     "name": "stdout",
     "output_type": "stream",
     "text": [
      "Statistics of the pokemon picachu of type electric:\n",
      " Health points: 3 \n",
      " Attack: 4 \n",
      " Defense: 3 \n",
      " Speed: 4 \n",
      " Accutacy: 3 \n",
      " Evasion: 2\n"
     ]
    }
   ],
   "source": [
    "print(pokemon_1)"
   ]
  },
  {
   "cell_type": "code",
   "execution_count": 32,
   "metadata": {},
   "outputs": [
    {
     "name": "stdout",
     "output_type": "stream",
     "text": [
      "The pokemon picachu attack with a force of 4 points\n"
     ]
    }
   ],
   "source": [
    "pokemon_1.attack()\n"
   ]
  },
  {
   "cell_type": "code",
   "execution_count": 33,
   "metadata": {},
   "outputs": [
    {
     "name": "stdout",
     "output_type": "stream",
     "text": [
      "The pokemon picachu defended an attack by  3 points\n"
     ]
    }
   ],
   "source": [
    "pokemon_1.defense()"
   ]
  },
  {
   "cell_type": "code",
   "execution_count": 34,
   "metadata": {},
   "outputs": [
    {
     "name": "stdout",
     "output_type": "stream",
     "text": [
      "The pokemon picachu cannot level up due to lack of experience\n"
     ]
    }
   ],
   "source": [
    "pokemon_1.level_up()"
   ]
  },
  {
   "cell_type": "code",
   "execution_count": 35,
   "metadata": {},
   "outputs": [
    {
     "name": "stdout",
     "output_type": "stream",
     "text": [
      "The pokemon picachu has leveled up. Current level: 2\n"
     ]
    }
   ],
   "source": [
    "pokemon_1.gain_exp(11)\n",
    "pokemon_1.level_up()"
   ]
  }
 ],
 "metadata": {
  "kernelspec": {
   "display_name": "Python 3 (ipykernel)",
   "language": "python",
   "name": "python3"
  },
  "language_info": {
   "codemirror_mode": {
    "name": "ipython",
    "version": 3
   },
   "file_extension": ".py",
   "mimetype": "text/x-python",
   "name": "python",
   "nbconvert_exporter": "python",
   "pygments_lexer": "ipython3",
   "version": "3.12.1"
  }
 },
 "nbformat": 4,
 "nbformat_minor": 2
}
