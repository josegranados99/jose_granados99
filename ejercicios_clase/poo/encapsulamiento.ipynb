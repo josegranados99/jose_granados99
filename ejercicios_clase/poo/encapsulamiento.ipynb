{
 "cells": [
  {
   "cell_type": "code",
   "execution_count": 5,
   "metadata": {},
   "outputs": [],
   "source": [
    "class PortalGun:\n",
    "    def __init__(self, name):\n",
    "        self.name = name\n",
    "        self.__energy = 100\n",
    "        self.__used_portals = 0\n",
    "\n",
    "    def use_portals(self)->None:\n",
    "        if self.__energy >= 10:\n",
    "            self.__used_portals += 1\n",
    "            self.__energy -= 10\n",
    "            print(f\"{self.name} has used the portal\")\n",
    "        else:\n",
    "            print(\"Insufficient power to use the portal\")\n",
    "\n",
    "    def recharge_energy(self, energy:int)->None:\n",
    "        self.__energy += energy\n",
    "\n",
    "    def restatant_energy(self)->None:\n",
    "        print(f\"The remaining energy is {self.__energy}\")\n",
    "\n",
    "    def uses_portals(self)-> None:\n",
    "        print(f\"{self.__used_portals} portals have been used\")"
   ]
  },
  {
   "cell_type": "code",
   "execution_count": 6,
   "metadata": {},
   "outputs": [
    {
     "name": "stdout",
     "output_type": "stream",
     "text": [
      "Rick has used the portal\n",
      "The remaining energy is 190\n",
      "1 portals have been used\n"
     ]
    }
   ],
   "source": [
    "portal_rick:PortalGun = PortalGun(\"Rick\")\n",
    "portal_rick.use_portals()\n",
    "portal_rick.recharge_energy(100)\n",
    "portal_rick.restatant_energy()\n",
    "portal_rick.uses_portals()"
   ]
  }
 ],
 "metadata": {
  "kernelspec": {
   "display_name": "Python 3 (ipykernel)",
   "language": "python",
   "name": "python3"
  },
  "language_info": {
   "codemirror_mode": {
    "name": "ipython",
    "version": 3
   },
   "file_extension": ".py",
   "mimetype": "text/x-python",
   "name": "python",
   "nbconvert_exporter": "python",
   "pygments_lexer": "ipython3",
   "version": "3.12.1"
  }
 },
 "nbformat": 4,
 "nbformat_minor": 2
}
