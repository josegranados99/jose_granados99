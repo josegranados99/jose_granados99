{
 "cells": [
  {
   "cell_type": "code",
   "execution_count": 33,
   "metadata": {},
   "outputs": [],
   "source": [
    "class Electrodomestic:\n",
    "    colors: tuple = (\"white\", \"black\", \"red\", \"blue\", \"gray\")\n",
    "    consumption_price: dict ={\n",
    "        \"A\": 100,\n",
    "        \"B\": 80,\n",
    "        \"C\": 60,\n",
    "        \"D\": 50,\n",
    "        \"E\": 30,\n",
    "        \"F\": 10\n",
    "    }\n",
    "    weight_price: dict = {\n",
    "        19: 10,\n",
    "        49: 50,\n",
    "        79: 80,\n",
    "        80: 100\n",
    "    }\n",
    "\n",
    "    def __init__(self, energy_consumption:str = \"F\", weight:int = 5):\n",
    "        self.energy_consumption = energy_consumption.upper()\n",
    "        self.weight = weight\n",
    "\n",
    "    def final_price(self)-> int:\n",
    "        value:int = 0\n",
    "\n",
    "        for consumption, price_consumption in self.consumption_price.items():\n",
    "            for weight, price_weight in self.weight_price.items():\n",
    "                if  self.weight <= weight:\n",
    "                    value += price_weight\n",
    "                    break\n",
    "\n",
    "            if self.energy_consumption == consumption:\n",
    "                    value += price_consumption\n",
    "                    break\n",
    "        print(f\"The base price of the appliance is {value}\")\n",
    "\n",
    "        return value\n",
    "\n",
    "\n",
    "\n",
    "class WashingMachine(Electrodomestic):\n",
    "    def __init__(self, energy_consumption:str = \"F\", weight:int = 5, charge: int = 5):\n",
    "        super().__init__(energy_consumption=energy_consumption, weight=weight)\n",
    "        self.charge = charge\n",
    "\n",
    "\n",
    "    def final_price(self)->None:\n",
    "        price:int = super().final_price()\n",
    "\n",
    "        if self.charge >= 30:\n",
    "            price += 50\n",
    "\n",
    "        print(f\"The price of the TV is {price}\")\n",
    "\n",
    "\n",
    "\n",
    "\n",
    "\n",
    "\n"
   ]
  },
  {
   "cell_type": "code",
   "execution_count": 34,
   "metadata": {},
   "outputs": [
    {
     "name": "stdout",
     "output_type": "stream",
     "text": [
      "The base price of the appliance is 150\n",
      "The price of the TV is 200\n"
     ]
    }
   ],
   "source": [
    "washing_machine: WashingMachine = WashingMachine(\"A\", 20, 50)\n",
    "\n",
    "washing_machine.final_price()"
   ]
  }
 ],
 "metadata": {
  "kernelspec": {
   "display_name": "Python 3 (ipykernel)",
   "language": "python",
   "name": "python3"
  },
  "language_info": {
   "codemirror_mode": {
    "name": "ipython",
    "version": 3
   },
   "file_extension": ".py",
   "mimetype": "text/x-python",
   "name": "python",
   "nbconvert_exporter": "python",
   "pygments_lexer": "ipython3",
   "version": "3.12.1"
  }
 },
 "nbformat": 4,
 "nbformat_minor": 2
}
