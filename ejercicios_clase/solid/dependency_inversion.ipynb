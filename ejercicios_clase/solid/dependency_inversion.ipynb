{
 "cells": [
  {
   "cell_type": "code",
   "execution_count": null,
   "metadata": {},
   "outputs": [],
   "source": [
    "#Incorrect Example\n",
    "\n",
    "class MySQLDatabase:\n",
    "    def connect(self):\n",
    "        print(\"Connecting to MySQL database...\")\n",
    "\n",
    "    def query(self, sql: str):\n",
    "        print(f\"Executing query: {sql}\")\n",
    "\n",
    "class DataManager:\n",
    "    def __init__(self):\n",
    "        self.db = MySQLDatabase()  # Direct dependency on a specific implementation\n",
    "\n",
    "    def get_user_data(self, user_id: int):\n",
    "        self.db.connect()\n",
    "        return self.db.query(f\"SELECT * FROM users WHERE id = {user_id}\")\n"
   ]
  },
  {
   "cell_type": "code",
   "execution_count": 14,
   "metadata": {},
   "outputs": [],
   "source": [
    "from abc import ABC, abstractmethod\n",
    "\n",
    "class DataBase(ABC):\n",
    "    @abstractmethod\n",
    "    def connect(self):\n",
    "        pass\n",
    "\n",
    "    @abstractmethod\n",
    "    def query(self, query: str):\n",
    "        pass\n",
    "\n",
    "class MySQL(DataBase):\n",
    "    def __init__(self, user:str, password:str) -> None:\n",
    "        self.user = user\n",
    "        self.password = password\n",
    "\n",
    "    def connect(self):\n",
    "        print(f\"You have connected to the MySQL database with username:{self.user} and password:{self.password}\")\n",
    "\n",
    "    def query(self, query: str)->None:\n",
    "        print(f\"Query: {query}\")\n",
    "\n",
    "class PostgreSQL(DataBase):\n",
    "    def __init__(self, token:str)->None:\n",
    "        self.token = token\n",
    "\n",
    "    def connect(self)->None:\n",
    "        print(F\"You have connected to the PostgreSQL database with the token:{self.token}\")\n",
    "\n",
    "    def query(self, query: str)->None:\n",
    "        print(f\"Query: {query}\")\n",
    "\n",
    "class ManagerDataBase:\n",
    "    def __init__(self, data_base:DataBase) -> None:\n",
    "        self.data_base = data_base\n",
    "\n",
    "    def connect(self):\n",
    "        self.data_base.connect()\n",
    "\n",
    "    def query(self, query:str):\n",
    "        self.data_base.query(query)\n"
   ]
  },
  {
   "cell_type": "code",
   "execution_count": 15,
   "metadata": {},
   "outputs": [
    {
     "name": "stdout",
     "output_type": "stream",
     "text": [
      "You have connected to the MySQL database with username:jose and password:jose1234\n",
      "Query: SELECT * FROM EMPLOYEE\n",
      "You have connected to the PostgreSQL database with the token:1asd4g3as1fga5s1fda2sf32sa\n",
      "Query: SELECT PROJNAME, PRSTDATE, PRENDATE FROM PROJECT\n"
     ]
    }
   ],
   "source": [
    "mysql: MySQL = MySQL(\"jose\", \"jose1234\")\n",
    "postgre: PostgreSQL = PostgreSQL(\"1asd4g3as1fga5s1fda2sf32sa\")\n",
    "\n",
    "manager_database_mysql:ManagerDataBase = ManagerDataBase(mysql)\n",
    "manager_database_postgre:ManagerDataBase = ManagerDataBase(postgre)\n",
    "\n",
    "manager_database_mysql.connect()\n",
    "manager_database_mysql.query(\"SELECT * FROM EMPLOYEE\")\n",
    "\n",
    "manager_database_postgre.connect()\n",
    "manager_database_postgre.query(\"SELECT PROJNAME, PRSTDATE, PRENDATE FROM PROJECT\")"
   ]
  }
 ],
 "metadata": {
  "kernelspec": {
   "display_name": "Python 3",
   "language": "python",
   "name": "python3"
  },
  "language_info": {
   "codemirror_mode": {
    "name": "ipython",
    "version": 3
   },
   "file_extension": ".py",
   "mimetype": "text/x-python",
   "name": "python",
   "nbconvert_exporter": "python",
   "pygments_lexer": "ipython3",
   "version": "3.12.1"
  }
 },
 "nbformat": 4,
 "nbformat_minor": 2
}
