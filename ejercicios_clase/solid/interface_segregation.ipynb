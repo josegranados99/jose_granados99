{
 "cells": [
  {
   "cell_type": "code",
   "execution_count": 12,
   "metadata": {},
   "outputs": [],
   "source": [
    "#Incorrect Example\n",
    "class MultiFunctionDevice:\n",
    "    def __init__(self, document: str) -> None:\n",
    "        self.document = document\n",
    "\n",
    "    def print_document(self)->None:\n",
    "        raise NotImplementedError(\"This method must be implemented\")\n",
    "\n",
    "    def scan_document(self)->None:\n",
    "        raise NotImplementedError(\"This method must be implemented\")\n",
    "\n",
    "    def fax_document(self)->None:\n",
    "        raise NotImplementedError(\"This method must be implemented\")\n",
    "\n",
    "class AllInOnePrinter(MultiFunctionDevice):\n",
    "    def print_document(self)->None:\n",
    "        print(f\"Printing document: {self.document}\")\n",
    "\n",
    "    def scan_document(self)->None:\n",
    "        print(f\"Escaneando documento: {self.document}\")\n",
    "\n",
    "    def fax_document(self)->None:\n",
    "        print(f\"Scanning document: {self.document}\")\n",
    "\n",
    "\n",
    "class BasicPrinter(MultiFunctionDevice):\n",
    "    def print_document(self)->None:\n",
    "        print(f\"Printing document: {self.document}\")\n"
   ]
  },
  {
   "cell_type": "code",
   "execution_count": 13,
   "metadata": {},
   "outputs": [
    {
     "name": "stdout",
     "output_type": "stream",
     "text": [
      "Printing document: doc1\n",
      "Escaneando documento: doc1\n",
      "Scanning document: doc1\n",
      "Printing document: doc2\n",
      "Scan error: This method must be implemented\n",
      "Fax error: This method must be implemented\n"
     ]
    }
   ],
   "source": [
    "multiprinted: AllInOnePrinter = AllInOnePrinter(\"doc1\")\n",
    "printer: BasicPrinter = BasicPrinter(\"doc2\")\n",
    "\n",
    "multiprinted.print_document()\n",
    "multiprinted.scan_document()\n",
    "multiprinted.fax_document()\n",
    "\n",
    "printer.print_document()\n",
    "\n",
    "try:\n",
    "    printer.scan_document()\n",
    "except Exception as error:\n",
    "    print(f\"Scan error: {error}\")\n",
    "\n",
    "try:\n",
    "    printer.fax_document()\n",
    "except Exception as error:\n",
    "    print(f\"Fax error: {error}\")\n",
    "\n"
   ]
  },
  {
   "cell_type": "code",
   "execution_count": 14,
   "metadata": {},
   "outputs": [],
   "source": [
    "from abc import ABC, abstractmethod\n",
    "\n",
    "class Document:\n",
    "    def __init__(self, document: str) -> None:\n",
    "        self.document = document\n",
    "\n",
    "class FunctionDevicePrint(ABC, Document):\n",
    "    @abstractmethod\n",
    "    def print_document(self)->None:\n",
    "        pass\n",
    "\n",
    "class FunctionDeviceScan(ABC, Document):\n",
    "    @abstractmethod\n",
    "    def scan_document(self)->None:\n",
    "        pass\n",
    "\n",
    "class FuncionDeviceFax(ABC, Document):\n",
    "    @abstractmethod\n",
    "    def fax_document(self)->None:\n",
    "        pass\n",
    "\n",
    "class AllInOnePrinter(FunctionDevicePrint, FunctionDeviceScan, FuncionDeviceFax):\n",
    "    def print_document(self)->None:\n",
    "        print(f\"Printing document: {self.document}\")\n",
    "\n",
    "    def scan_document(self)->None:\n",
    "        print(f\"Escaneando documento: {self.document}\")\n",
    "\n",
    "    def fax_document(self)->None:\n",
    "        print(f\"Scanning document: {self.document}\")\n",
    "\n",
    "\n",
    "class BasicPrinter(FunctionDevicePrint):\n",
    "    def print_document(self)->None:\n",
    "        print(f\"Printing document: {self.document}\")"
   ]
  },
  {
   "cell_type": "code",
   "execution_count": 15,
   "metadata": {},
   "outputs": [
    {
     "name": "stdout",
     "output_type": "stream",
     "text": [
      "Printing document: doc1\n",
      "Escaneando documento: doc1\n",
      "Scanning document: doc1\n",
      "Printing document: doc2\n"
     ]
    }
   ],
   "source": [
    "multiprinted: AllInOnePrinter = AllInOnePrinter(\"doc1\")\n",
    "printer: BasicPrinter = BasicPrinter(\"doc2\")\n",
    "\n",
    "multiprinted.print_document()\n",
    "multiprinted.scan_document()\n",
    "multiprinted.fax_document()\n",
    "\n",
    "printer.print_document()"
   ]
  }
 ],
 "metadata": {
  "kernelspec": {
   "display_name": "Python 3",
   "language": "python",
   "name": "python3"
  },
  "language_info": {
   "codemirror_mode": {
    "name": "ipython",
    "version": 3
   },
   "file_extension": ".py",
   "mimetype": "text/x-python",
   "name": "python",
   "nbconvert_exporter": "python",
   "pygments_lexer": "ipython3",
   "version": "3.12.1"
  }
 },
 "nbformat": 4,
 "nbformat_minor": 2
}
