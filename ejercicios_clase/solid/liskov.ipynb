{
 "cells": [
  {
   "cell_type": "code",
   "execution_count": 14,
   "metadata": {},
   "outputs": [],
   "source": [
    "#Incorrect example\n",
    "class Vehicle:\n",
    "    def __init__(self, distance:int) -> None:\n",
    "        self.distance = distance\n",
    "\n",
    "    def drive(self):\n",
    "        print(f\"The vehicle has driven {self.distance} kilometers\")\n",
    "\n",
    "class ElectricCar(Vehicle):\n",
    "    def drive(self):\n",
    "        if self.distance > 100:\n",
    "            raise Exception(\"The battery does not have enough charge for that distance\")\n",
    "\n",
    "        print(f\"The electric car has traveled {self.distance} kilometers\")\n",
    "\n",
    "class GasolineCar(Vehicle):\n",
    "    def drive(self):\n",
    "        print(f\"The gasoline car has driven {self.distance} kilometers\")"
   ]
  },
  {
   "cell_type": "code",
   "execution_count": 15,
   "metadata": {},
   "outputs": [
    {
     "name": "stdout",
     "output_type": "stream",
     "text": [
      "The gasoline car has driven 500 kilometers\n",
      "The electric car has traveled 100 kilometers\n",
      "Error: The battery does not have enough charge for that distance\n"
     ]
    }
   ],
   "source": [
    "toyota:GasolineCar = GasolineCar(500)\n",
    "tesla1:ElectricCar = ElectricCar(100)\n",
    "tesla2:ElectricCar = ElectricCar(200)\n",
    "\n",
    "vehicles: list[Vehicle] = [toyota, tesla1, tesla2]\n",
    "\n",
    "for vehicle in vehicles:\n",
    "    try:\n",
    "        vehicle.drive()\n",
    "    except Exception as e:\n",
    "        print(f\"Error: {e}\")"
   ]
  },
  {
   "cell_type": "code",
   "execution_count": 18,
   "metadata": {},
   "outputs": [],
   "source": [
    "class Vehicle:\n",
    "    def __init__(self, distance:int) -> None:\n",
    "        self.distance = distance\n",
    "\n",
    "    def drive(self)->None:\n",
    "        print(f\"The vehicle has driven {self.distance} kilometers\")\n",
    "\n",
    "class ElectricCar(Vehicle):\n",
    "    def drive(self)->None:\n",
    "        print(f\"The electric car has traveled {self.distance} kilometers\")\n",
    "\n",
    "class GasolineCar(Vehicle):\n",
    "    def drive(self)->None:\n",
    "        print(f\"The gasoline car travels {self.distance} kilometers\")\n"
   ]
  },
  {
   "cell_type": "code",
   "execution_count": 19,
   "metadata": {},
   "outputs": [
    {
     "name": "stdout",
     "output_type": "stream",
     "text": [
      "The gasoline car travels 500 kilometers\n",
      "The electric car has traveled 100 kilometers\n",
      "The electric car has traveled 200 kilometers\n"
     ]
    }
   ],
   "source": [
    "toyota:GasolineCar = GasolineCar(500)\n",
    "tesla1:ElectricCar = ElectricCar(100)\n",
    "tesla2:ElectricCar = ElectricCar(200)\n",
    "\n",
    "vehicles: list[Vehicle] = [toyota, tesla1, tesla2]\n",
    "\n",
    "for vehicle in vehicles:\n",
    "    vehicle.drive()"
   ]
  }
 ],
 "metadata": {
  "kernelspec": {
   "display_name": "Python 3",
   "language": "python",
   "name": "python3"
  },
  "language_info": {
   "codemirror_mode": {
    "name": "ipython",
    "version": 3
   },
   "file_extension": ".py",
   "mimetype": "text/x-python",
   "name": "python",
   "nbconvert_exporter": "python",
   "pygments_lexer": "ipython3",
   "version": "3.12.1"
  }
 },
 "nbformat": 4,
 "nbformat_minor": 2
}
