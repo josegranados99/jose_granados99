{
 "cells": [
  {
   "cell_type": "code",
   "execution_count": null,
   "metadata": {},
   "outputs": [],
   "source": [
    "#Incorrect example\n",
    "\n",
    "class DiscountCalculator:\n",
    "    def __init__(self, client_type:str, amount:float) -> None:\n",
    "        self.client_type = client_type\n",
    "        self.amount = amount\n",
    "\n",
    "    def discount(self) ->float:\n",
    "        if self.client_type == \"NORMAL\":\n",
    "            return self.amountamount * 0.05\n",
    "        elif self.client_type == \"VIP\":\n",
    "            return self.amount * 0.10\n",
    "        else:\n",
    "            return 0"
   ]
  },
  {
   "cell_type": "code",
   "execution_count": 4,
   "metadata": {},
   "outputs": [],
   "source": [
    "from abc import ABC, abstractmethod\n",
    "\n",
    "class DiscountCalculator(ABC):\n",
    "    def __init__(self, amount:float) -> None:\n",
    "        self.amount = amount\n",
    "\n",
    "    @abstractmethod\n",
    "    def discount(self) -> float:\n",
    "        pass\n",
    "\n",
    "class DiscountClientNormal(DiscountCalculator):\n",
    "\n",
    "    def discount(self) -> float:\n",
    "        return self.amount * 0.05\n",
    "\n",
    "class DiscountClientVip(DiscountCalculator):\n",
    "\n",
    "    def discount(self) -> float:\n",
    "        return self.amount * 0.10\n"
   ]
  },
  {
   "cell_type": "code",
   "execution_count": 7,
   "metadata": {},
   "outputs": [
    {
     "name": "stdout",
     "output_type": "stream",
     "text": [
      "The client discount is 50.0\n",
      "The client discount is 100.0\n"
     ]
    }
   ],
   "source": [
    "#Testing\n",
    "\n",
    "discountClients: list[DiscountCalculator] = [DiscountClientNormal(1000), DiscountClientVip(1000)]\n",
    "\n",
    "for discountClient in discountClients:\n",
    "    print(f\"The client discount is {discountClient.discount()}\")"
   ]
  }
 ],
 "metadata": {
  "kernelspec": {
   "display_name": "Python 3",
   "language": "python",
   "name": "python3"
  },
  "language_info": {
   "codemirror_mode": {
    "name": "ipython",
    "version": 3
   },
   "file_extension": ".py",
   "mimetype": "text/x-python",
   "name": "python",
   "nbconvert_exporter": "python",
   "pygments_lexer": "ipython3",
   "version": "3.12.1"
  }
 },
 "nbformat": 4,
 "nbformat_minor": 2
}
