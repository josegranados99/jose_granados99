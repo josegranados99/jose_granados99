{
 "cells": [
  {
   "cell_type": "code",
   "execution_count": null,
   "metadata": {},
   "outputs": [],
   "source": [
    "#Incorrect example\n",
    "class Pokemon:\n",
    "    def __init__(self, name: str, type: str,health_points: int, attack_points: int, defense_points: int, speed: int, accuracy: int, evasion: int, level: int = 1, exp:int = 0) ->None:\n",
    "        self.name = name\n",
    "        self.type = type\n",
    "        self.health_points = health_points\n",
    "        self.attack_points = attack_points\n",
    "        self.defense_points = defense_points\n",
    "        self.speed = speed\n",
    "        self.accuracy = accuracy\n",
    "        self.evasion = evasion\n",
    "        self.level = level\n",
    "        self.exp = exp\n",
    "\n",
    "    def __str__(self)->str:\n",
    "        return f\"Statistics of the pokemon {self.name} of type {self.type}:\\n Health points: {self.health_points} \\n Attack: {self.attack_points} \\n Defense: {self.defense_points} \\n Speed: {self.speed} \\n Accutacy: {self.accuracy} \\n Evasion: {self.evasion}\"\n",
    "\n",
    "    def attack (self)->None:\n",
    "        print(f\"The pokemon {self.name} attack with a force of {self.attack_points} points\")\n",
    "\n",
    "    def defense (self)->None:\n",
    "        print(f\"The pokemon {self.name} defended an attack by  {self.defense_points} points\")\n",
    "\n",
    "    def level_up(self)->None:\n",
    "        if(self.exp >= 10):\n",
    "            self.level += 1\n",
    "            self.exp = 0\n",
    "            print(f\"The pokemon {self.name} has leveled up. Current level: {self.level}\")\n",
    "        else:\n",
    "            print(f\"The pokemon {self.name} cannot level up due to lack of experience\")\n",
    "\n",
    "    def gain_exp(self, value:int)->None:\n",
    "        self.exp = value"
   ]
  },
  {
   "cell_type": "code",
   "execution_count": 1,
   "metadata": {},
   "outputs": [],
   "source": [
    "class Pokemon:\n",
    "    def __init__(self, name: str, type: str,health_points: int, attack_points: int, defense_points: int, speed: int, accuracy: int, evasion: int, level: int = 1, exp:int = 0) ->None:\n",
    "        self.name = name\n",
    "        self.type = type\n",
    "        self.health_points = health_points\n",
    "        self.attack_points = attack_points\n",
    "        self.defense_points = defense_points\n",
    "        self.speed = speed\n",
    "        self.accuracy = accuracy\n",
    "        self.evasion = evasion\n",
    "        self.level = level\n",
    "        self.exp = exp\n",
    "\n",
    "    def __str__(self)->str:\n",
    "        return f\"Statistics of the pokemon {self.name} of type {self.type}:\\n Health points: {self.health_points} \\n Attack: {self.attack_points} \\n Defense: {self.defense_points} \\n Speed: {self.speed} \\n Accutacy: {self.accuracy} \\n Evasion: {self.evasion}\"\n",
    "\n",
    "class PokemonAttacck:\n",
    "    def attack(pokemon:Pokemon, specialAttack:bool = False):\n",
    "        if specialAttack:\n",
    "            print(f\"The strength of the attack is {pokemon.attack_points*10}\")\n",
    "        else:\n",
    "            print(f\"The strength of the attack is {pokemon.attack_points}\")\n",
    "\n",
    "class PokemonDefense:\n",
    "    def defense(pokemon:Pokemon, specialDefense:bool = False):\n",
    "        if specialDefense:\n",
    "            print(f\"Defense points are {pokemon.defense_points*10}\")\n",
    "        else:\n",
    "            print(f\"Defense points are {pokemon.defense_points}\")\n",
    "\n",
    "class PokemonLevelUp:\n",
    "    def level_up(pokemon:Pokemon, levelUp:bool = False):\n",
    "        if((pokemon.exp >= 10) or levelUp):\n",
    "            pokemon.level += 1\n",
    "            pokemon.exp = 0\n",
    "            print(f\"The pokemon {pokemon.name} has leveled up. Current level: {pokemon.level}\")\n",
    "        else:\n",
    "            print(f\"The pokemon {pokemon.name} cannot level up due to lack of experience\")\n",
    "\n",
    "class PokemonGainExp:\n",
    "    def gain_exp(pokemon:Pokemon, value:int = 0,rareCandy:int = 0):\n",
    "        pokemon.exp += value + (rareCandy *10)\n",
    "        print(f\"Pokemon {pokemon.name} has {pokemon.exp} exp\")\n"
   ]
  },
  {
   "cell_type": "code",
   "execution_count": 7,
   "metadata": {},
   "outputs": [
    {
     "name": "stdout",
     "output_type": "stream",
     "text": [
      "The strength of the attack is 1000\n",
      "The strength of the attack is 100\n",
      "Defense points are 1000\n",
      "Defense points are 100\n",
      "The pokemon Pikachu cannot level up due to lack of experience\n",
      "The pokemon Pikachu has leveled up. Current level: 1\n",
      "Pokemon Pikachu has 30 exp\n",
      "Pokemon Pikachu has 80 exp\n"
     ]
    }
   ],
   "source": [
    "#Testing\n",
    "\n",
    "pokemon:Pokemon = Pokemon(\"Pikachu\", \"Electric\", 100, 100, 100, 5, 10, 10, 0, 0)\n",
    "\n",
    "PokemonAttacck.attack(pokemon, True)\n",
    "PokemonAttacck.attack(pokemon)\n",
    "PokemonDefense.defense(pokemon, True)\n",
    "PokemonDefense.defense(pokemon)\n",
    "PokemonLevelUp.level_up(pokemon)\n",
    "PokemonLevelUp.level_up(pokemon, True)\n",
    "PokemonGainExp.gain_exp(pokemon, 10, 2)\n",
    "PokemonGainExp.gain_exp(pokemon, 50)"
   ]
  }
 ],
 "metadata": {
  "kernelspec": {
   "display_name": "Python 3",
   "language": "python",
   "name": "python3"
  },
  "language_info": {
   "codemirror_mode": {
    "name": "ipython",
    "version": 3
   },
   "file_extension": ".py",
   "mimetype": "text/x-python",
   "name": "python",
   "nbconvert_exporter": "python",
   "pygments_lexer": "ipython3",
   "version": "3.12.1"
  }
 },
 "nbformat": 4,
 "nbformat_minor": 2
}
